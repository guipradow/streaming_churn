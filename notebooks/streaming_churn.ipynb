{
 "cells": [
  {
   "cell_type": "markdown",
   "metadata": {},
   "source": [
    "# Libraries"
   ]
  },
  {
   "cell_type": "code",
   "execution_count": 1,
   "metadata": {},
   "outputs": [],
   "source": [
    "# Data wrangling\n",
    "import numpy as np\n",
    "import pandas as pd\n",
    "\n",
    "# Data visualization\n",
    "import matplotlib.pyplot as plt\n",
    "import seaborn as sns\n",
    "import missingno\n",
    "import sidetable as stb\n",
    "\n",
    "# Statistics\n",
    "from scipy.stats import chi2_contingency, ttest_ind"
   ]
  },
  {
   "cell_type": "markdown",
   "metadata": {},
   "source": [
    "# Library settings"
   ]
  },
  {
   "cell_type": "markdown",
   "metadata": {},
   "source": [
    "Set aspects of the visual theme for all matplotlib and seaborn plots.\n",
    "This function changes the global defaults for all plots using the matplotlib rcParams system. The themeing is decomposed into several distinct sets of parameter values.\n",
    "\n",
    "See [seaborn.set_theme](https://seaborn.pydata.org/generated/seaborn.set_theme.html)"
   ]
  },
  {
   "cell_type": "code",
   "execution_count": 2,
   "metadata": {},
   "outputs": [],
   "source": [
    "sns.set_theme(\n",
    "    context='notebook',\n",
    "    style='ticks',\n",
    "    palette='colorblind'\n",
    ")"
   ]
  },
  {
   "cell_type": "markdown",
   "metadata": {},
   "source": [
    "# Custom functions"
   ]
  },
  {
   "cell_type": "markdown",
   "metadata": {},
   "source": [
    "# Load dataset"
   ]
  },
  {
   "cell_type": "code",
   "execution_count": 3,
   "metadata": {},
   "outputs": [
    {
     "data": {
      "text/html": [
       "<div>\n",
       "<style scoped>\n",
       "    .dataframe tbody tr th:only-of-type {\n",
       "        vertical-align: middle;\n",
       "    }\n",
       "\n",
       "    .dataframe tbody tr th {\n",
       "        vertical-align: top;\n",
       "    }\n",
       "\n",
       "    .dataframe thead th {\n",
       "        text-align: right;\n",
       "    }\n",
       "</style>\n",
       "<table border=\"1\" class=\"dataframe\">\n",
       "  <thead>\n",
       "    <tr style=\"text-align: right;\">\n",
       "      <th></th>\n",
       "      <th>Age</th>\n",
       "      <th>Gender</th>\n",
       "      <th>Time_on_platform</th>\n",
       "      <th>Devices_connected</th>\n",
       "      <th>Subscription_type</th>\n",
       "      <th>Num_streaming_services</th>\n",
       "      <th>Num_active_profiles</th>\n",
       "      <th>Avg_rating</th>\n",
       "      <th>Churned</th>\n",
       "      <th>User_id</th>\n",
       "    </tr>\n",
       "  </thead>\n",
       "  <tbody>\n",
       "    <tr>\n",
       "      <th>0</th>\n",
       "      <td>49.0</td>\n",
       "      <td>Male</td>\n",
       "      <td>4700.0</td>\n",
       "      <td>3.0</td>\n",
       "      <td>Basic</td>\n",
       "      <td>NaN</td>\n",
       "      <td>3</td>\n",
       "      <td>NaN</td>\n",
       "      <td>0.0</td>\n",
       "      <td>a271aa56-bcfc-4f0a-91f7-b773de6b86a4</td>\n",
       "    </tr>\n",
       "    <tr>\n",
       "      <th>1</th>\n",
       "      <td>69.0</td>\n",
       "      <td>Female</td>\n",
       "      <td>6107.0</td>\n",
       "      <td>2.0</td>\n",
       "      <td>Standard</td>\n",
       "      <td>NaN</td>\n",
       "      <td>1</td>\n",
       "      <td>2.14</td>\n",
       "      <td>0.0</td>\n",
       "      <td>fe14b048-770b-4619-8ec6-485b0969ae31</td>\n",
       "    </tr>\n",
       "    <tr>\n",
       "      <th>2</th>\n",
       "      <td>44.0</td>\n",
       "      <td>Male</td>\n",
       "      <td>6374.0</td>\n",
       "      <td>3.0</td>\n",
       "      <td>Premium</td>\n",
       "      <td>1.0</td>\n",
       "      <td>1</td>\n",
       "      <td>1.91</td>\n",
       "      <td>1.0</td>\n",
       "      <td>0283dffd-6684-4a05-9c6f-c02098a6849d</td>\n",
       "    </tr>\n",
       "    <tr>\n",
       "      <th>3</th>\n",
       "      <td>26.0</td>\n",
       "      <td>Male</td>\n",
       "      <td>NaN</td>\n",
       "      <td>5.0</td>\n",
       "      <td>Basic</td>\n",
       "      <td>NaN</td>\n",
       "      <td>2</td>\n",
       "      <td>NaN</td>\n",
       "      <td>NaN</td>\n",
       "      <td>c316f2f5-3403-4a0a-82c2-c98e4b3379d2</td>\n",
       "    </tr>\n",
       "    <tr>\n",
       "      <th>4</th>\n",
       "      <td>18.0</td>\n",
       "      <td>NaN</td>\n",
       "      <td>1948.0</td>\n",
       "      <td>3.0</td>\n",
       "      <td>Basic</td>\n",
       "      <td>NaN</td>\n",
       "      <td>3</td>\n",
       "      <td>3.88</td>\n",
       "      <td>0.0</td>\n",
       "      <td>14879bcb-1977-4ad8-a7f9-6aa9bf7b872f</td>\n",
       "    </tr>\n",
       "  </tbody>\n",
       "</table>\n",
       "</div>"
      ],
      "text/plain": [
       "    Age  Gender  Time_on_platform  Devices_connected Subscription_type  \\\n",
       "0  49.0    Male            4700.0                3.0             Basic   \n",
       "1  69.0  Female            6107.0                2.0          Standard   \n",
       "2  44.0    Male            6374.0                3.0           Premium   \n",
       "3  26.0    Male               NaN                5.0             Basic   \n",
       "4  18.0     NaN            1948.0                3.0             Basic   \n",
       "\n",
       "   Num_streaming_services  Num_active_profiles  Avg_rating  Churned  \\\n",
       "0                     NaN                    3         NaN      0.0   \n",
       "1                     NaN                    1        2.14      0.0   \n",
       "2                     1.0                    1        1.91      1.0   \n",
       "3                     NaN                    2         NaN      NaN   \n",
       "4                     NaN                    3        3.88      0.0   \n",
       "\n",
       "                                User_id  \n",
       "0  a271aa56-bcfc-4f0a-91f7-b773de6b86a4  \n",
       "1  fe14b048-770b-4619-8ec6-485b0969ae31  \n",
       "2  0283dffd-6684-4a05-9c6f-c02098a6849d  \n",
       "3  c316f2f5-3403-4a0a-82c2-c98e4b3379d2  \n",
       "4  14879bcb-1977-4ad8-a7f9-6aa9bf7b872f  "
      ]
     },
     "execution_count": 3,
     "metadata": {},
     "output_type": "execute_result"
    }
   ],
   "source": [
    "# Load data\n",
    "df = pd.read_csv(f'../data/raw/streaming_data.csv')\n",
    "df.head(5)"
   ]
  },
  {
   "cell_type": "markdown",
   "metadata": {},
   "source": [
    "# 1 - Business Understanding"
   ]
  },
  {
   "cell_type": "markdown",
   "metadata": {},
   "source": [
    "|feature|description|type|\n",
    "|-------|-----------|----|\n",
    "|User_id|Customer identification code|String|\n",
    "|age|Customer age|int|\n",
    "|gender|Customer gender|string|\n",
    "|region|Customer's region of origin|string|\n",
    "|subscription_days|Customer's days of active subscription|int|\n",
    "|subscription_type|Account type|string|\n",
    "|num_contents|Watched contents amount|int|\n",
    "|avg_rating|Average rating of platform content|int|\n",
    "|num_active_profiles|Number of active profiles|int|\n",
    "|num_streaming_services|Number of streaming services that customer own|int|\n",
    "|devices_connected|Number of devices connected to the account|int|\n",
    "|churned|if customer cancelled account or not|int|"
   ]
  },
  {
   "cell_type": "markdown",
   "metadata": {},
   "source": [
    "# 2 - Data Understanding"
   ]
  },
  {
   "cell_type": "code",
   "execution_count": 4,
   "metadata": {},
   "outputs": [
    {
     "name": "stdout",
     "output_type": "stream",
     "text": [
      "<class 'pandas.core.frame.DataFrame'>\n",
      "RangeIndex: 77884 entries, 0 to 77883\n",
      "Data columns (total 10 columns):\n",
      " #   Column                  Non-Null Count  Dtype  \n",
      "---  ------                  --------------  -----  \n",
      " 0   Age                     66607 non-null  float64\n",
      " 1   Gender                  63368 non-null  object \n",
      " 2   Time_on_platform        56464 non-null  float64\n",
      " 3   Devices_connected       52696 non-null  float64\n",
      " 4   Subscription_type       52663 non-null  object \n",
      " 5   Num_streaming_services  9572 non-null   float64\n",
      " 6   Num_active_profiles     77884 non-null  int64  \n",
      " 7   Avg_rating              60614 non-null  float64\n",
      " 8   Churned                 61148 non-null  float64\n",
      " 9   User_id                 77884 non-null  object \n",
      "dtypes: float64(6), int64(1), object(3)\n",
      "memory usage: 5.9+ MB\n"
     ]
    }
   ],
   "source": [
    "# DataFrame information\n",
    "df.info()"
   ]
  },
  {
   "cell_type": "code",
   "execution_count": 5,
   "metadata": {},
   "outputs": [
    {
     "data": {
      "text/html": [
       "<div>\n",
       "<style scoped>\n",
       "    .dataframe tbody tr th:only-of-type {\n",
       "        vertical-align: middle;\n",
       "    }\n",
       "\n",
       "    .dataframe tbody tr th {\n",
       "        vertical-align: top;\n",
       "    }\n",
       "\n",
       "    .dataframe thead th {\n",
       "        text-align: right;\n",
       "    }\n",
       "</style>\n",
       "<table border=\"1\" class=\"dataframe\">\n",
       "  <thead>\n",
       "    <tr style=\"text-align: right;\">\n",
       "      <th></th>\n",
       "      <th>Age</th>\n",
       "      <th>Time_on_platform</th>\n",
       "      <th>Devices_connected</th>\n",
       "      <th>Num_streaming_services</th>\n",
       "      <th>Num_active_profiles</th>\n",
       "      <th>Avg_rating</th>\n",
       "      <th>Churned</th>\n",
       "    </tr>\n",
       "  </thead>\n",
       "  <tbody>\n",
       "    <tr>\n",
       "      <th>count</th>\n",
       "      <td>66607.000000</td>\n",
       "      <td>56464.000000</td>\n",
       "      <td>52696.000000</td>\n",
       "      <td>9572.000000</td>\n",
       "      <td>77884.000000</td>\n",
       "      <td>60614.000000</td>\n",
       "      <td>61148.000000</td>\n",
       "    </tr>\n",
       "    <tr>\n",
       "      <th>mean</th>\n",
       "      <td>43.511072</td>\n",
       "      <td>4385.848505</td>\n",
       "      <td>2.995370</td>\n",
       "      <td>2.496239</td>\n",
       "      <td>3.002273</td>\n",
       "      <td>3.002252</td>\n",
       "      <td>0.243066</td>\n",
       "    </tr>\n",
       "    <tr>\n",
       "      <th>std</th>\n",
       "      <td>15.043158</td>\n",
       "      <td>2526.580859</td>\n",
       "      <td>1.414072</td>\n",
       "      <td>1.120700</td>\n",
       "      <td>1.413235</td>\n",
       "      <td>1.154963</td>\n",
       "      <td>0.428938</td>\n",
       "    </tr>\n",
       "    <tr>\n",
       "      <th>min</th>\n",
       "      <td>18.000000</td>\n",
       "      <td>0.000000</td>\n",
       "      <td>1.000000</td>\n",
       "      <td>1.000000</td>\n",
       "      <td>1.000000</td>\n",
       "      <td>1.000000</td>\n",
       "      <td>0.000000</td>\n",
       "    </tr>\n",
       "    <tr>\n",
       "      <th>25%</th>\n",
       "      <td>30.000000</td>\n",
       "      <td>2196.000000</td>\n",
       "      <td>2.000000</td>\n",
       "      <td>1.000000</td>\n",
       "      <td>2.000000</td>\n",
       "      <td>1.990000</td>\n",
       "      <td>0.000000</td>\n",
       "    </tr>\n",
       "    <tr>\n",
       "      <th>50%</th>\n",
       "      <td>43.000000</td>\n",
       "      <td>4384.000000</td>\n",
       "      <td>3.000000</td>\n",
       "      <td>2.000000</td>\n",
       "      <td>3.000000</td>\n",
       "      <td>3.010000</td>\n",
       "      <td>0.000000</td>\n",
       "    </tr>\n",
       "    <tr>\n",
       "      <th>75%</th>\n",
       "      <td>57.000000</td>\n",
       "      <td>6573.000000</td>\n",
       "      <td>4.000000</td>\n",
       "      <td>4.000000</td>\n",
       "      <td>4.000000</td>\n",
       "      <td>4.000000</td>\n",
       "      <td>0.000000</td>\n",
       "    </tr>\n",
       "    <tr>\n",
       "      <th>max</th>\n",
       "      <td>69.000000</td>\n",
       "      <td>8759.000000</td>\n",
       "      <td>5.000000</td>\n",
       "      <td>4.000000</td>\n",
       "      <td>5.000000</td>\n",
       "      <td>5.000000</td>\n",
       "      <td>1.000000</td>\n",
       "    </tr>\n",
       "  </tbody>\n",
       "</table>\n",
       "</div>"
      ],
      "text/plain": [
       "                Age  Time_on_platform  Devices_connected  \\\n",
       "count  66607.000000      56464.000000       52696.000000   \n",
       "mean      43.511072       4385.848505           2.995370   \n",
       "std       15.043158       2526.580859           1.414072   \n",
       "min       18.000000          0.000000           1.000000   \n",
       "25%       30.000000       2196.000000           2.000000   \n",
       "50%       43.000000       4384.000000           3.000000   \n",
       "75%       57.000000       6573.000000           4.000000   \n",
       "max       69.000000       8759.000000           5.000000   \n",
       "\n",
       "       Num_streaming_services  Num_active_profiles    Avg_rating       Churned  \n",
       "count             9572.000000         77884.000000  60614.000000  61148.000000  \n",
       "mean                 2.496239             3.002273      3.002252      0.243066  \n",
       "std                  1.120700             1.413235      1.154963      0.428938  \n",
       "min                  1.000000             1.000000      1.000000      0.000000  \n",
       "25%                  1.000000             2.000000      1.990000      0.000000  \n",
       "50%                  2.000000             3.000000      3.010000      0.000000  \n",
       "75%                  4.000000             4.000000      4.000000      0.000000  \n",
       "max                  4.000000             5.000000      5.000000      1.000000  "
      ]
     },
     "execution_count": 5,
     "metadata": {},
     "output_type": "execute_result"
    }
   ],
   "source": [
    "# Dataframe descriptive statistics\n",
    "df.describe()"
   ]
  },
  {
   "cell_type": "code",
   "execution_count": 6,
   "metadata": {},
   "outputs": [
    {
     "data": {
      "text/html": [
       "<div>\n",
       "<style scoped>\n",
       "    .dataframe tbody tr th:only-of-type {\n",
       "        vertical-align: middle;\n",
       "    }\n",
       "\n",
       "    .dataframe tbody tr th {\n",
       "        vertical-align: top;\n",
       "    }\n",
       "\n",
       "    .dataframe thead th {\n",
       "        text-align: right;\n",
       "    }\n",
       "</style>\n",
       "<table border=\"1\" class=\"dataframe\">\n",
       "  <thead>\n",
       "    <tr style=\"text-align: right;\">\n",
       "      <th></th>\n",
       "      <th>missing</th>\n",
       "      <th>total</th>\n",
       "      <th>percent</th>\n",
       "    </tr>\n",
       "  </thead>\n",
       "  <tbody>\n",
       "    <tr>\n",
       "      <th>Num_streaming_services</th>\n",
       "      <td>68312</td>\n",
       "      <td>77884</td>\n",
       "      <td>87.709928</td>\n",
       "    </tr>\n",
       "    <tr>\n",
       "      <th>Subscription_type</th>\n",
       "      <td>25221</td>\n",
       "      <td>77884</td>\n",
       "      <td>32.382774</td>\n",
       "    </tr>\n",
       "    <tr>\n",
       "      <th>Devices_connected</th>\n",
       "      <td>25188</td>\n",
       "      <td>77884</td>\n",
       "      <td>32.340404</td>\n",
       "    </tr>\n",
       "    <tr>\n",
       "      <th>Time_on_platform</th>\n",
       "      <td>21420</td>\n",
       "      <td>77884</td>\n",
       "      <td>27.502440</td>\n",
       "    </tr>\n",
       "    <tr>\n",
       "      <th>Avg_rating</th>\n",
       "      <td>17270</td>\n",
       "      <td>77884</td>\n",
       "      <td>22.174002</td>\n",
       "    </tr>\n",
       "    <tr>\n",
       "      <th>Churned</th>\n",
       "      <td>16736</td>\n",
       "      <td>77884</td>\n",
       "      <td>21.488367</td>\n",
       "    </tr>\n",
       "    <tr>\n",
       "      <th>Gender</th>\n",
       "      <td>14516</td>\n",
       "      <td>77884</td>\n",
       "      <td>18.637974</td>\n",
       "    </tr>\n",
       "    <tr>\n",
       "      <th>Age</th>\n",
       "      <td>11277</td>\n",
       "      <td>77884</td>\n",
       "      <td>14.479226</td>\n",
       "    </tr>\n",
       "    <tr>\n",
       "      <th>Num_active_profiles</th>\n",
       "      <td>0</td>\n",
       "      <td>77884</td>\n",
       "      <td>0.000000</td>\n",
       "    </tr>\n",
       "    <tr>\n",
       "      <th>User_id</th>\n",
       "      <td>0</td>\n",
       "      <td>77884</td>\n",
       "      <td>0.000000</td>\n",
       "    </tr>\n",
       "  </tbody>\n",
       "</table>\n",
       "</div>"
      ],
      "text/plain": [
       "                        missing  total    percent\n",
       "Num_streaming_services    68312  77884  87.709928\n",
       "Subscription_type         25221  77884  32.382774\n",
       "Devices_connected         25188  77884  32.340404\n",
       "Time_on_platform          21420  77884  27.502440\n",
       "Avg_rating                17270  77884  22.174002\n",
       "Churned                   16736  77884  21.488367\n",
       "Gender                    14516  77884  18.637974\n",
       "Age                       11277  77884  14.479226\n",
       "Num_active_profiles           0  77884   0.000000\n",
       "User_id                       0  77884   0.000000"
      ]
     },
     "execution_count": 6,
     "metadata": {},
     "output_type": "execute_result"
    }
   ],
   "source": [
    "# Missing values\n",
    "df.stb.missing()"
   ]
  },
  {
   "cell_type": "code",
   "execution_count": 7,
   "metadata": {},
   "outputs": [
    {
     "data": {
      "text/plain": [
       "<Axes: >"
      ]
     },
     "execution_count": 7,
     "metadata": {},
     "output_type": "execute_result"
    },
    {
     "data": {
      "image/png": "[encoded data removed]",
      "text/plain": [
       "<Figure size 2500x1000 with 2 Axes>"
      ]
     },
     "metadata": {},
     "output_type": "display_data"
    }
   ],
   "source": [
    "# Missing values\n",
    "missingno.matrix(df)"
   ]
  },
  {
   "cell_type": "code",
   "execution_count": 8,
   "metadata": {},
   "outputs": [
    {
     "name": "stdout",
     "output_type": "stream",
     "text": [
      "12403\n",
      "12403\n"
     ]
    }
   ],
   "source": [
    "# Duplicated rows\n",
    "print(df.duplicated().sum())\n",
    "\n",
    "# Duplicated ID\n",
    "print(df.duplicated('User_id').sum())"
   ]
  },
  {
   "cell_type": "code",
   "execution_count": 9,
   "metadata": {},
   "outputs": [
    {
     "data": {
      "text/plain": [
       "Churned\n",
       "0.0    75.6934\n",
       "1.0    24.3066\n",
       "Name: proportion, dtype: float64"
      ]
     },
     "metadata": {},
     "output_type": "display_data"
    }
   ],
   "source": [
    "# Target classes\n",
    "display(df['Churned'].value_counts(normalize=True) * 100)"
   ]
  },
  {
   "cell_type": "code",
   "execution_count": 10,
   "metadata": {},
   "outputs": [
    {
     "data": {
      "image/png": "[encoded data removed]",
      "text/plain": [
       "<Figure size 640x480 with 1 Axes>"
      ]
     },
     "metadata": {},
     "output_type": "display_data"
    }
   ],
   "source": [
    "# Target classes distribution\n",
    "fig, ax = plt.subplots()\n",
    "percentages = (\n",
    "    df['Churned']\n",
    "    .map({1.0: True, 0.0: False})\n",
    "    .value_counts(normalize=True)\n",
    ")\n",
    "percentages.plot(kind='bar', color=['steelblue', 'orange'])\n",
    "ax.set_ylabel('Churn')\n",
    "ax.set_xticklabels(ax.get_xticklabels(), rotation=0)\n",
    "for i, percentage in enumerate(percentages):\n",
    "    ax.text(i, percentage, f'{percentage:.0%}', ha='center', va='bottom')\n",
    "    ax.tick_params(axis='x', which='both', length=0)\n",
    "    sns.despine(bottom=True, trim=True, offset=10)"
   ]
  },
  {
   "cell_type": "markdown",
   "metadata": {},
   "source": [
    "## 3 - Data Preparation"
   ]
  },
  {
   "cell_type": "code",
   "execution_count": 11,
   "metadata": {},
   "outputs": [],
   "source": [
    "# Drop User_id feature\n",
    "df = df.drop(columns='User_id')"
   ]
  },
  {
   "cell_type": "code",
   "execution_count": 12,
   "metadata": {},
   "outputs": [],
   "source": [
    "# Drop duplicateds\n",
    "df = df.drop_duplicates(keep='first')"
   ]
  },
  {
   "cell_type": "code",
   "execution_count": 13,
   "metadata": {},
   "outputs": [
    {
     "data": {
      "image/png": "[encoded data removed]",
      "text/plain": [
       "<Figure size 2500x1000 with 2 Axes>"
      ]
     },
     "metadata": {},
     "output_type": "display_data"
    }
   ],
   "source": [
    "# Missing values after dropping duplicateds\n",
    "missingno.matrix(df);"
   ]
  },
  {
   "cell_type": "code",
   "execution_count": 14,
   "metadata": {},
   "outputs": [
    {
     "data": {
      "text/html": [
       "<div>\n",
       "<style scoped>\n",
       "    .dataframe tbody tr th:only-of-type {\n",
       "        vertical-align: middle;\n",
       "    }\n",
       "\n",
       "    .dataframe tbody tr th {\n",
       "        vertical-align: top;\n",
       "    }\n",
       "\n",
       "    .dataframe thead th {\n",
       "        text-align: right;\n",
       "    }\n",
       "</style>\n",
       "<table border=\"1\" class=\"dataframe\">\n",
       "  <thead>\n",
       "    <tr style=\"text-align: right;\">\n",
       "      <th></th>\n",
       "      <th>missing</th>\n",
       "      <th>total</th>\n",
       "      <th>percent</th>\n",
       "    </tr>\n",
       "  </thead>\n",
       "  <tbody>\n",
       "    <tr>\n",
       "      <th>Num_streaming_services</th>\n",
       "      <td>57089</td>\n",
       "      <td>65177</td>\n",
       "      <td>87.590715</td>\n",
       "    </tr>\n",
       "    <tr>\n",
       "      <th>Devices_connected</th>\n",
       "      <td>21049</td>\n",
       "      <td>65177</td>\n",
       "      <td>32.295135</td>\n",
       "    </tr>\n",
       "    <tr>\n",
       "      <th>Subscription_type</th>\n",
       "      <td>21049</td>\n",
       "      <td>65177</td>\n",
       "      <td>32.295135</td>\n",
       "    </tr>\n",
       "    <tr>\n",
       "      <th>Time_on_platform</th>\n",
       "      <td>17661</td>\n",
       "      <td>65177</td>\n",
       "      <td>27.096982</td>\n",
       "    </tr>\n",
       "    <tr>\n",
       "      <th>Avg_rating</th>\n",
       "      <td>14211</td>\n",
       "      <td>65177</td>\n",
       "      <td>21.803704</td>\n",
       "    </tr>\n",
       "    <tr>\n",
       "      <th>Churned</th>\n",
       "      <td>14073</td>\n",
       "      <td>65177</td>\n",
       "      <td>21.591973</td>\n",
       "    </tr>\n",
       "    <tr>\n",
       "      <th>Gender</th>\n",
       "      <td>12144</td>\n",
       "      <td>65177</td>\n",
       "      <td>18.632340</td>\n",
       "    </tr>\n",
       "    <tr>\n",
       "      <th>Age</th>\n",
       "      <td>9327</td>\n",
       "      <td>65177</td>\n",
       "      <td>14.310263</td>\n",
       "    </tr>\n",
       "    <tr>\n",
       "      <th>Num_active_profiles</th>\n",
       "      <td>0</td>\n",
       "      <td>65177</td>\n",
       "      <td>0.000000</td>\n",
       "    </tr>\n",
       "  </tbody>\n",
       "</table>\n",
       "</div>"
      ],
      "text/plain": [
       "                        missing  total    percent\n",
       "Num_streaming_services    57089  65177  87.590715\n",
       "Devices_connected         21049  65177  32.295135\n",
       "Subscription_type         21049  65177  32.295135\n",
       "Time_on_platform          17661  65177  27.096982\n",
       "Avg_rating                14211  65177  21.803704\n",
       "Churned                   14073  65177  21.591973\n",
       "Gender                    12144  65177  18.632340\n",
       "Age                        9327  65177  14.310263\n",
       "Num_active_profiles           0  65177   0.000000"
      ]
     },
     "execution_count": 14,
     "metadata": {},
     "output_type": "execute_result"
    }
   ],
   "source": [
    "# Missing values after dropping duplicateds\n",
    "df.stb.missing()"
   ]
  },
  {
   "cell_type": "markdown",
   "metadata": {},
   "source": [
    "Even after dropping duplicateds 'Num_streaming_services' has ~88% of missing values. Dropping rows with missing values based on this column implies in a huge lost of information. A study of association will be performed. Depending on results of this study it can be more favorable to drop the column to deal with missing values."
   ]
  },
  {
   "cell_type": "markdown",
   "metadata": {},
   "source": [
    "## 3.1 - Association between target and categorical features"
   ]
  },
  {
   "cell_type": "code",
   "execution_count": 15,
   "metadata": {},
   "outputs": [],
   "source": [
    "# Numerical features\n",
    "num_cols = df.select_dtypes('number').columns.drop('Churned').to_list()\n",
    "\n",
    "# Categorical features\n",
    "cat_cols = df.select_dtypes(exclude='number').columns.to_list()"
   ]
  },
  {
   "cell_type": "code",
   "execution_count": 16,
   "metadata": {},
   "outputs": [],
   "source": [
    "# Create a df dropping missing values for association study\n",
    "df_drop = df.dropna()"
   ]
  },
  {
   "cell_type": "code",
   "execution_count": 17,
   "metadata": {},
   "outputs": [],
   "source": [
    "# Create dataframe with p-value and chi2 value\n",
    "df_chi2 = pd.DataFrame(\n",
    "    {cat_col: chi2_contingency(\n",
    "        pd.crosstab(df_drop[cat_col], df_drop['Churned']),\n",
    "        correction=True)[:2] \\\n",
    "    for cat_col in cat_cols},\n",
    "    index=['chi2', 'p-value']\n",
    ")\n"
   ]
  },
  {
   "cell_type": "code",
   "execution_count": 18,
   "metadata": {},
   "outputs": [
    {
     "data": {
      "text/html": [
       "<style type=\"text/css\">\n",
       "#T_2d410_row0_col0, #T_2d410_row1_col1 {\n",
       "  background-color: #67000d;\n",
       "  color: #f1f1f1;\n",
       "}\n",
       "#T_2d410_row0_col1, #T_2d410_row1_col0 {\n",
       "  background-color: #fff5f0;\n",
       "  color: #000000;\n",
       "}\n",
       "</style>\n",
       "<table id=\"T_2d410\">\n",
       "  <thead>\n",
       "    <tr>\n",
       "      <th class=\"blank level0\" >&nbsp;</th>\n",
       "      <th id=\"T_2d410_level0_col0\" class=\"col_heading level0 col0\" >chi2</th>\n",
       "      <th id=\"T_2d410_level0_col1\" class=\"col_heading level0 col1\" >p-value</th>\n",
       "    </tr>\n",
       "  </thead>\n",
       "  <tbody>\n",
       "    <tr>\n",
       "      <th id=\"T_2d410_level0_row0\" class=\"row_heading level0 row0\" >Gender</th>\n",
       "      <td id=\"T_2d410_row0_col0\" class=\"data row0 col0\" >1.659968</td>\n",
       "      <td id=\"T_2d410_row0_col1\" class=\"data row0 col1\" >0.197608</td>\n",
       "    </tr>\n",
       "    <tr>\n",
       "      <th id=\"T_2d410_level0_row1\" class=\"row_heading level0 row1\" >Subscription_type</th>\n",
       "      <td id=\"T_2d410_row1_col0\" class=\"data row1 col0\" >0.808906</td>\n",
       "      <td id=\"T_2d410_row1_col1\" class=\"data row1 col1\" >0.667342</td>\n",
       "    </tr>\n",
       "  </tbody>\n",
       "</table>\n"
      ],
      "text/plain": [
       "<pandas.io.formats.style.Styler at 0x28ffa5fa3e0>"
      ]
     },
     "execution_count": 18,
     "metadata": {},
     "output_type": "execute_result"
    }
   ],
   "source": [
    "df_chi2.T.style.background_gradient(cmap='Reds')"
   ]
  },
  {
   "cell_type": "markdown",
   "metadata": {},
   "source": [
    "## 3.2 - Association between target and numerical features"
   ]
  },
  {
   "cell_type": "markdown",
   "metadata": {},
   "source": [
    "Given pvalues > 0.5, there isn't evidence to reject null hypothesis. It suggests that there isn't association between categorical features with target."
   ]
  },
  {
   "cell_type": "code",
   "execution_count": 19,
   "metadata": {},
   "outputs": [],
   "source": [
    "# Create dataframe with p-value and ttest value\n",
    "df_ttest = pd.DataFrame(\n",
    "    {ttest_ind(df_drop[df_drop['Churned'] == 1][num_col],\n",
    "          df_drop[df_drop['Churned'] == 0][num_col])[:2] \\\n",
    "    for num_col in num_cols},\n",
    "    index=[num_cols],\n",
    "    columns=['ttest', 'p-value']\n",
    ")"
   ]
  },
  {
   "cell_type": "code",
   "execution_count": 20,
   "metadata": {},
   "outputs": [
    {
     "data": {
      "text/html": [
       "<style type=\"text/css\">\n",
       "#T_4376b_row0_col0, #T_4376b_row2_col1 {\n",
       "  background-color: #67000d;\n",
       "  color: #f1f1f1;\n",
       "}\n",
       "#T_4376b_row0_col1, #T_4376b_row3_col0 {\n",
       "  background-color: #fff5f0;\n",
       "  color: #000000;\n",
       "}\n",
       "#T_4376b_row1_col0 {\n",
       "  background-color: #cf1c1f;\n",
       "  color: #f1f1f1;\n",
       "}\n",
       "#T_4376b_row1_col1 {\n",
       "  background-color: #fee3d7;\n",
       "  color: #000000;\n",
       "}\n",
       "#T_4376b_row2_col0 {\n",
       "  background-color: #fcc3ab;\n",
       "  color: #000000;\n",
       "}\n",
       "#T_4376b_row3_col1 {\n",
       "  background-color: #fcab8f;\n",
       "  color: #000000;\n",
       "}\n",
       "#T_4376b_row4_col0 {\n",
       "  background-color: #ffece3;\n",
       "  color: #000000;\n",
       "}\n",
       "#T_4376b_row4_col1 {\n",
       "  background-color: #fc8161;\n",
       "  color: #f1f1f1;\n",
       "}\n",
       "#T_4376b_row5_col0 {\n",
       "  background-color: #fdccb8;\n",
       "  color: #000000;\n",
       "}\n",
       "#T_4376b_row5_col1 {\n",
       "  background-color: #a10e15;\n",
       "  color: #f1f1f1;\n",
       "}\n",
       "</style>\n",
       "<table id=\"T_4376b\">\n",
       "  <thead>\n",
       "    <tr>\n",
       "      <th class=\"blank level0\" >&nbsp;</th>\n",
       "      <th id=\"T_4376b_level0_col0\" class=\"col_heading level0 col0\" >ttest</th>\n",
       "      <th id=\"T_4376b_level0_col1\" class=\"col_heading level0 col1\" >p-value</th>\n",
       "    </tr>\n",
       "  </thead>\n",
       "  <tbody>\n",
       "    <tr>\n",
       "      <th id=\"T_4376b_level0_row0\" class=\"row_heading level0 row0\" >Age</th>\n",
       "      <td id=\"T_4376b_row0_col0\" class=\"data row0 col0\" >2.768881</td>\n",
       "      <td id=\"T_4376b_row0_col1\" class=\"data row0 col1\" >0.005711</td>\n",
       "    </tr>\n",
       "    <tr>\n",
       "      <th id=\"T_4376b_level0_row1\" class=\"row_heading level0 row1\" >Time_on_platform</th>\n",
       "      <td id=\"T_4376b_row1_col0\" class=\"data row1 col0\" >1.717548</td>\n",
       "      <td id=\"T_4376b_row1_col1\" class=\"data row1 col1\" >0.086136</td>\n",
       "    </tr>\n",
       "    <tr>\n",
       "      <th id=\"T_4376b_level0_row2\" class=\"row_heading level0 row2\" >Devices_connected</th>\n",
       "      <td id=\"T_4376b_row2_col0\" class=\"data row2 col0\" >-0.305312</td>\n",
       "      <td id=\"T_4376b_row2_col1\" class=\"data row2 col1\" >0.760181</td>\n",
       "    </tr>\n",
       "    <tr>\n",
       "      <th id=\"T_4376b_level0_row3\" class=\"row_heading level0 row3\" >Num_streaming_services</th>\n",
       "      <td id=\"T_4376b_row3_col0\" class=\"data row3 col0\" >-1.198771</td>\n",
       "      <td id=\"T_4376b_row3_col1\" class=\"data row3 col1\" >0.230852</td>\n",
       "    </tr>\n",
       "    <tr>\n",
       "      <th id=\"T_4376b_level0_row4\" class=\"row_heading level0 row4\" >Num_active_profiles</th>\n",
       "      <td id=\"T_4376b_row4_col0\" class=\"data row4 col0\" >-0.976550</td>\n",
       "      <td id=\"T_4376b_row4_col1\" class=\"data row4 col1\" >0.328988</td>\n",
       "    </tr>\n",
       "    <tr>\n",
       "      <th id=\"T_4376b_level0_row5\" class=\"row_heading level0 row5\" >Avg_rating</th>\n",
       "      <td id=\"T_4376b_row5_col0\" class=\"data row5 col0\" >-0.427275</td>\n",
       "      <td id=\"T_4376b_row5_col1\" class=\"data row5 col1\" >0.669256</td>\n",
       "    </tr>\n",
       "  </tbody>\n",
       "</table>\n"
      ],
      "text/plain": [
       "<pandas.io.formats.style.Styler at 0x28fabd30a00>"
      ]
     },
     "execution_count": 20,
     "metadata": {},
     "output_type": "execute_result"
    }
   ],
   "source": [
    "df_ttest.style.background_gradient(cmap='Reds')"
   ]
  },
  {
   "cell_type": "markdown",
   "metadata": {},
   "source": [
    "The p-values < 0.5 for 'Age' and 'Time_on_platform' features suggest that there is sufficient evidence to reject the null hypothesis that there aren't association between this features and target variable. Based in 'Num_streaming_Services' p-value, this feature will be dropped to deal with missing values. After that, all rows with missing values will be dropped. In a real case, it would be more interesting communicate clients about missing values in dataset."
   ]
  },
  {
   "cell_type": "code",
   "execution_count": 21,
   "metadata": {},
   "outputs": [
    {
     "data": {
      "text/html": [
       "<div>\n",
       "<style scoped>\n",
       "    .dataframe tbody tr th:only-of-type {\n",
       "        vertical-align: middle;\n",
       "    }\n",
       "\n",
       "    .dataframe tbody tr th {\n",
       "        vertical-align: top;\n",
       "    }\n",
       "\n",
       "    .dataframe thead th {\n",
       "        text-align: right;\n",
       "    }\n",
       "</style>\n",
       "<table border=\"1\" class=\"dataframe\">\n",
       "  <thead>\n",
       "    <tr style=\"text-align: right;\">\n",
       "      <th></th>\n",
       "      <th>missing</th>\n",
       "      <th>total</th>\n",
       "      <th>percent</th>\n",
       "    </tr>\n",
       "  </thead>\n",
       "  <tbody>\n",
       "    <tr>\n",
       "      <th>Devices_connected</th>\n",
       "      <td>21049</td>\n",
       "      <td>65177</td>\n",
       "      <td>32.295135</td>\n",
       "    </tr>\n",
       "    <tr>\n",
       "      <th>Subscription_type</th>\n",
       "      <td>21049</td>\n",
       "      <td>65177</td>\n",
       "      <td>32.295135</td>\n",
       "    </tr>\n",
       "    <tr>\n",
       "      <th>Time_on_platform</th>\n",
       "      <td>17661</td>\n",
       "      <td>65177</td>\n",
       "      <td>27.096982</td>\n",
       "    </tr>\n",
       "    <tr>\n",
       "      <th>Avg_rating</th>\n",
       "      <td>14211</td>\n",
       "      <td>65177</td>\n",
       "      <td>21.803704</td>\n",
       "    </tr>\n",
       "    <tr>\n",
       "      <th>Churned</th>\n",
       "      <td>14073</td>\n",
       "      <td>65177</td>\n",
       "      <td>21.591973</td>\n",
       "    </tr>\n",
       "    <tr>\n",
       "      <th>Gender</th>\n",
       "      <td>12144</td>\n",
       "      <td>65177</td>\n",
       "      <td>18.632340</td>\n",
       "    </tr>\n",
       "    <tr>\n",
       "      <th>Age</th>\n",
       "      <td>9327</td>\n",
       "      <td>65177</td>\n",
       "      <td>14.310263</td>\n",
       "    </tr>\n",
       "    <tr>\n",
       "      <th>Num_active_profiles</th>\n",
       "      <td>0</td>\n",
       "      <td>65177</td>\n",
       "      <td>0.000000</td>\n",
       "    </tr>\n",
       "  </tbody>\n",
       "</table>\n",
       "</div>"
      ],
      "text/plain": [
       "                     missing  total    percent\n",
       "Devices_connected      21049  65177  32.295135\n",
       "Subscription_type      21049  65177  32.295135\n",
       "Time_on_platform       17661  65177  27.096982\n",
       "Avg_rating             14211  65177  21.803704\n",
       "Churned                14073  65177  21.591973\n",
       "Gender                 12144  65177  18.632340\n",
       "Age                     9327  65177  14.310263\n",
       "Num_active_profiles        0  65177   0.000000"
      ]
     },
     "execution_count": 21,
     "metadata": {},
     "output_type": "execute_result"
    }
   ],
   "source": [
    "# Drop 'Num_streaming_services' from dataset\n",
    "df = df.drop(columns='Num_streaming_services')\n",
    "df.stb.missing()"
   ]
  },
  {
   "cell_type": "markdown",
   "metadata": {},
   "source": [
    "'Devices_connected' and 'Subscription_type' also have a high p-value for T test. As its percntage of missing values aren't too higher from 'Time_on_platform' that seems to have association with target variable, these features will be maintained."
   ]
  },
  {
   "cell_type": "code",
   "execution_count": 22,
   "metadata": {},
   "outputs": [
    {
     "data": {
      "text/html": [
       "<div>\n",
       "<style scoped>\n",
       "    .dataframe tbody tr th:only-of-type {\n",
       "        vertical-align: middle;\n",
       "    }\n",
       "\n",
       "    .dataframe tbody tr th {\n",
       "        vertical-align: top;\n",
       "    }\n",
       "\n",
       "    .dataframe thead th {\n",
       "        text-align: right;\n",
       "    }\n",
       "</style>\n",
       "<table border=\"1\" class=\"dataframe\">\n",
       "  <thead>\n",
       "    <tr style=\"text-align: right;\">\n",
       "      <th></th>\n",
       "      <th>missing</th>\n",
       "      <th>total</th>\n",
       "      <th>percent</th>\n",
       "    </tr>\n",
       "  </thead>\n",
       "  <tbody>\n",
       "    <tr>\n",
       "      <th>Age</th>\n",
       "      <td>0</td>\n",
       "      <td>9307</td>\n",
       "      <td>0.0</td>\n",
       "    </tr>\n",
       "    <tr>\n",
       "      <th>Gender</th>\n",
       "      <td>0</td>\n",
       "      <td>9307</td>\n",
       "      <td>0.0</td>\n",
       "    </tr>\n",
       "    <tr>\n",
       "      <th>Time_on_platform</th>\n",
       "      <td>0</td>\n",
       "      <td>9307</td>\n",
       "      <td>0.0</td>\n",
       "    </tr>\n",
       "    <tr>\n",
       "      <th>Devices_connected</th>\n",
       "      <td>0</td>\n",
       "      <td>9307</td>\n",
       "      <td>0.0</td>\n",
       "    </tr>\n",
       "    <tr>\n",
       "      <th>Subscription_type</th>\n",
       "      <td>0</td>\n",
       "      <td>9307</td>\n",
       "      <td>0.0</td>\n",
       "    </tr>\n",
       "    <tr>\n",
       "      <th>Num_active_profiles</th>\n",
       "      <td>0</td>\n",
       "      <td>9307</td>\n",
       "      <td>0.0</td>\n",
       "    </tr>\n",
       "    <tr>\n",
       "      <th>Avg_rating</th>\n",
       "      <td>0</td>\n",
       "      <td>9307</td>\n",
       "      <td>0.0</td>\n",
       "    </tr>\n",
       "    <tr>\n",
       "      <th>Churned</th>\n",
       "      <td>0</td>\n",
       "      <td>9307</td>\n",
       "      <td>0.0</td>\n",
       "    </tr>\n",
       "  </tbody>\n",
       "</table>\n",
       "</div>"
      ],
      "text/plain": [
       "                     missing  total  percent\n",
       "Age                        0   9307      0.0\n",
       "Gender                     0   9307      0.0\n",
       "Time_on_platform           0   9307      0.0\n",
       "Devices_connected          0   9307      0.0\n",
       "Subscription_type          0   9307      0.0\n",
       "Num_active_profiles        0   9307      0.0\n",
       "Avg_rating                 0   9307      0.0\n",
       "Churned                    0   9307      0.0"
      ]
     },
     "metadata": {},
     "output_type": "display_data"
    },
    {
     "name": "stdout",
     "output_type": "stream",
     "text": [
      "Lost of information: 86%\n"
     ]
    }
   ],
   "source": [
    "# Lost of information by dropping all missing values\n",
    "display(df.dropna().stb.missing())\n",
    "print(f'Lost of information: {(df.shape[0] - df.dropna().shape[0]) / df.shape[0]:.0%}')"
   ]
  },
  {
   "cell_type": "code",
   "execution_count": 23,
   "metadata": {},
   "outputs": [
    {
     "data": {
      "text/html": [
       "<div>\n",
       "<style scoped>\n",
       "    .dataframe tbody tr th:only-of-type {\n",
       "        vertical-align: middle;\n",
       "    }\n",
       "\n",
       "    .dataframe tbody tr th {\n",
       "        vertical-align: top;\n",
       "    }\n",
       "\n",
       "    .dataframe thead th {\n",
       "        text-align: right;\n",
       "    }\n",
       "</style>\n",
       "<table border=\"1\" class=\"dataframe\">\n",
       "  <thead>\n",
       "    <tr style=\"text-align: right;\">\n",
       "      <th></th>\n",
       "      <th>Age</th>\n",
       "      <th>Time_on_platform</th>\n",
       "      <th>Devices_connected</th>\n",
       "      <th>Num_active_profiles</th>\n",
       "      <th>Avg_rating</th>\n",
       "      <th>Churned</th>\n",
       "    </tr>\n",
       "  </thead>\n",
       "  <tbody>\n",
       "    <tr>\n",
       "      <th>count</th>\n",
       "      <td>55850.000000</td>\n",
       "      <td>47516.000000</td>\n",
       "      <td>44128.000000</td>\n",
       "      <td>65177.000000</td>\n",
       "      <td>50966.000000</td>\n",
       "      <td>51104.000000</td>\n",
       "    </tr>\n",
       "    <tr>\n",
       "      <th>mean</th>\n",
       "      <td>43.538962</td>\n",
       "      <td>4385.022456</td>\n",
       "      <td>2.998799</td>\n",
       "      <td>3.000921</td>\n",
       "      <td>3.003971</td>\n",
       "      <td>0.244814</td>\n",
       "    </tr>\n",
       "    <tr>\n",
       "      <th>std</th>\n",
       "      <td>15.042654</td>\n",
       "      <td>2528.167615</td>\n",
       "      <td>1.414622</td>\n",
       "      <td>1.412248</td>\n",
       "      <td>1.154425</td>\n",
       "      <td>0.429981</td>\n",
       "    </tr>\n",
       "    <tr>\n",
       "      <th>min</th>\n",
       "      <td>18.000000</td>\n",
       "      <td>0.000000</td>\n",
       "      <td>1.000000</td>\n",
       "      <td>1.000000</td>\n",
       "      <td>1.000000</td>\n",
       "      <td>0.000000</td>\n",
       "    </tr>\n",
       "    <tr>\n",
       "      <th>25%</th>\n",
       "      <td>30.000000</td>\n",
       "      <td>2194.000000</td>\n",
       "      <td>2.000000</td>\n",
       "      <td>2.000000</td>\n",
       "      <td>2.000000</td>\n",
       "      <td>0.000000</td>\n",
       "    </tr>\n",
       "    <tr>\n",
       "      <th>50%</th>\n",
       "      <td>44.000000</td>\n",
       "      <td>4387.000000</td>\n",
       "      <td>3.000000</td>\n",
       "      <td>3.000000</td>\n",
       "      <td>3.010000</td>\n",
       "      <td>0.000000</td>\n",
       "    </tr>\n",
       "    <tr>\n",
       "      <th>75%</th>\n",
       "      <td>57.000000</td>\n",
       "      <td>6573.000000</td>\n",
       "      <td>4.000000</td>\n",
       "      <td>4.000000</td>\n",
       "      <td>4.000000</td>\n",
       "      <td>0.000000</td>\n",
       "    </tr>\n",
       "    <tr>\n",
       "      <th>max</th>\n",
       "      <td>69.000000</td>\n",
       "      <td>8759.000000</td>\n",
       "      <td>5.000000</td>\n",
       "      <td>5.000000</td>\n",
       "      <td>5.000000</td>\n",
       "      <td>1.000000</td>\n",
       "    </tr>\n",
       "  </tbody>\n",
       "</table>\n",
       "</div>"
      ],
      "text/plain": [
       "                Age  Time_on_platform  Devices_connected  Num_active_profiles  \\\n",
       "count  55850.000000      47516.000000       44128.000000         65177.000000   \n",
       "mean      43.538962       4385.022456           2.998799             3.000921   \n",
       "std       15.042654       2528.167615           1.414622             1.412248   \n",
       "min       18.000000          0.000000           1.000000             1.000000   \n",
       "25%       30.000000       2194.000000           2.000000             2.000000   \n",
       "50%       44.000000       4387.000000           3.000000             3.000000   \n",
       "75%       57.000000       6573.000000           4.000000             4.000000   \n",
       "max       69.000000       8759.000000           5.000000             5.000000   \n",
       "\n",
       "         Avg_rating       Churned  \n",
       "count  50966.000000  51104.000000  \n",
       "mean       3.003971      0.244814  \n",
       "std        1.154425      0.429981  \n",
       "min        1.000000      0.000000  \n",
       "25%        2.000000      0.000000  \n",
       "50%        3.010000      0.000000  \n",
       "75%        4.000000      0.000000  \n",
       "max        5.000000      1.000000  "
      ]
     },
     "execution_count": 23,
     "metadata": {},
     "output_type": "execute_result"
    }
   ],
   "source": [
    "# Verify data quality before dealing with missing values\n",
    "df.describe()"
   ]
  },
  {
   "cell_type": "markdown",
   "metadata": {},
   "source": [
    "Description of data shows that aren't problems with numerical values (e.g., negative data in 'Age')."
   ]
  },
  {
   "cell_type": "code",
   "execution_count": 24,
   "metadata": {},
   "outputs": [
    {
     "data": {
      "text/plain": [
       "Age                    float64\n",
       "Gender                  object\n",
       "Time_on_platform       float64\n",
       "Devices_connected      float64\n",
       "Subscription_type       object\n",
       "Num_active_profiles      int64\n",
       "Avg_rating             float64\n",
       "Churned                float64\n",
       "dtype: object"
      ]
     },
     "execution_count": 24,
     "metadata": {},
     "output_type": "execute_result"
    }
   ],
   "source": [
    "df.dtypes"
   ]
  },
  {
   "cell_type": "code",
   "execution_count": 25,
   "metadata": {},
   "outputs": [],
   "source": [
    "# Drop rows with missing values in 'Gender' and 'Churned'\n",
    "df = df.dropna(subset=('Gender', 'Churned'))\n",
    "\n",
    "\n",
    "# Replace missing values\n",
    "num_cols = df.select_dtypes(include='number').columns.drop('Churned').to_list()\n",
    "df.loc[:, num_cols] = df[num_cols].fillna(\n",
    "    df[num_cols].median())\n",
    "df.loc[:, 'Subscription_type'] = df['Subscription_type'].fillna(\n",
    "    df['Subscription_type'].mode()[0]\n",
    ")"
   ]
  },
  {
   "cell_type": "markdown",
   "metadata": {},
   "source": [
    "About numerical features, only 'Avg_rating' must stay as float64, all another are discrete. The datatype will be changed after dealing with missing values.  \n",
    "\n",
    "For 'Gender', as this feature has only two categories if missing values are replaced by mode, a high bias would be introduced to dataset. Therefore, missing values in gender will be dropped.\n",
    "\n",
    "For missing values in 'Churned', replacing by mode would be introduce bias to dataset, the rows with missing values in 'Churned' will be dropped.\n",
    "\n",
    "Missing values in'Subscription_type' will be replaced by mode, while missing values in numerical features will be replaced by median."
   ]
  },
  {
   "cell_type": "code",
   "execution_count": 26,
   "metadata": {},
   "outputs": [],
   "source": [
    "# Drop target from df\n",
    "target = df['Churned']\n",
    "df = df.drop(columns='Churned')\n",
    "\n",
    "# Convert some float64 to int64\n",
    "cols2int = num_cols.copy()\n",
    "num_cols.remove('Avg_rating')\n",
    "df[cols2int] = df[cols2int].astype('int64')\n",
    "\n",
    "# Convert categorical from object to category\n",
    "df[cat_cols] = df[cat_cols].astype('category')"
   ]
  },
  {
   "cell_type": "code",
   "execution_count": 27,
   "metadata": {},
   "outputs": [
    {
     "data": {
      "text/html": [
       "<div>\n",
       "<style scoped>\n",
       "    .dataframe tbody tr th:only-of-type {\n",
       "        vertical-align: middle;\n",
       "    }\n",
       "\n",
       "    .dataframe tbody tr th {\n",
       "        vertical-align: top;\n",
       "    }\n",
       "\n",
       "    .dataframe thead th {\n",
       "        text-align: right;\n",
       "    }\n",
       "</style>\n",
       "<table border=\"1\" class=\"dataframe\">\n",
       "  <thead>\n",
       "    <tr style=\"text-align: right;\">\n",
       "      <th></th>\n",
       "      <th>missing</th>\n",
       "      <th>total</th>\n",
       "      <th>percent</th>\n",
       "    </tr>\n",
       "  </thead>\n",
       "  <tbody>\n",
       "    <tr>\n",
       "      <th>Age</th>\n",
       "      <td>0</td>\n",
       "      <td>41566</td>\n",
       "      <td>0.0</td>\n",
       "    </tr>\n",
       "    <tr>\n",
       "      <th>Gender</th>\n",
       "      <td>0</td>\n",
       "      <td>41566</td>\n",
       "      <td>0.0</td>\n",
       "    </tr>\n",
       "    <tr>\n",
       "      <th>Time_on_platform</th>\n",
       "      <td>0</td>\n",
       "      <td>41566</td>\n",
       "      <td>0.0</td>\n",
       "    </tr>\n",
       "    <tr>\n",
       "      <th>Devices_connected</th>\n",
       "      <td>0</td>\n",
       "      <td>41566</td>\n",
       "      <td>0.0</td>\n",
       "    </tr>\n",
       "    <tr>\n",
       "      <th>Subscription_type</th>\n",
       "      <td>0</td>\n",
       "      <td>41566</td>\n",
       "      <td>0.0</td>\n",
       "    </tr>\n",
       "    <tr>\n",
       "      <th>Num_active_profiles</th>\n",
       "      <td>0</td>\n",
       "      <td>41566</td>\n",
       "      <td>0.0</td>\n",
       "    </tr>\n",
       "    <tr>\n",
       "      <th>Avg_rating</th>\n",
       "      <td>0</td>\n",
       "      <td>41566</td>\n",
       "      <td>0.0</td>\n",
       "    </tr>\n",
       "  </tbody>\n",
       "</table>\n",
       "</div>"
      ],
      "text/plain": [
       "                     missing  total  percent\n",
       "Age                        0  41566      0.0\n",
       "Gender                     0  41566      0.0\n",
       "Time_on_platform           0  41566      0.0\n",
       "Devices_connected          0  41566      0.0\n",
       "Subscription_type          0  41566      0.0\n",
       "Num_active_profiles        0  41566      0.0\n",
       "Avg_rating                 0  41566      0.0"
      ]
     },
     "execution_count": 27,
     "metadata": {},
     "output_type": "execute_result"
    }
   ],
   "source": [
    "df.stb.missing()"
   ]
  },
  {
   "cell_type": "code",
   "execution_count": 28,
   "metadata": {},
   "outputs": [],
   "source": [
    "# Saving treated dataset\n",
    "df.to_csv(f'../data/processed/streaming_data.csv', index=False)"
   ]
  }
 ],
 "metadata": {
  "kernelspec": {
   "display_name": ".venv",
   "language": "python",
   "name": "python3"
  },
  "language_info": {
   "codemirror_mode": {
    "name": "ipython",
    "version": 3
   },
   "file_extension": ".py",
   "mimetype": "text/x-python",
   "name": "python",
   "nbconvert_exporter": "python",
   "pygments_lexer": "ipython3",
   "version": "3.10.11"
  }
 },
 "nbformat": 4,
 "nbformat_minor": 2
}
